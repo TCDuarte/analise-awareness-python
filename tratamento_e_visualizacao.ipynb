{
 "cells": [
  {
   "cell_type": "code",
   "execution_count": 91,
   "metadata": {},
   "outputs": [],
   "source": [
    "import pandas as pd\n",
    "from sklearn.cluster import KMeans\n",
    "from sklearn.preprocessing import StandardScaler\n",
    "import matplotlib.pyplot as plt\n",
    "import warnings"
   ]
  },
  {
   "cell_type": "code",
   "execution_count": 92,
   "metadata": {},
   "outputs": [],
   "source": [
    "# Carregamento dos dados\n",
    "df = pd.read_excel(r'/home/tcduarte/Reps/analise-awareness-python/case_analista_de_business_inteligence.xlsx',\n",
    "                     sheet_name=1)"
   ]
  },
  {
   "cell_type": "code",
   "execution_count": 93,
   "metadata": {},
   "outputs": [],
   "source": [
    "def cell_values_to_column(column_name):\n",
    "    \"\"\"\n",
    "    Converte valores únicos em uma coluna em colunas binárias.\n",
    "\n",
    "    Args:\n",
    "        column_name (str): Nome da coluna a ser processada.\n",
    "\n",
    "    Retorna:\n",
    "        None: Modifica o DataFrame in-place.\n",
    "    \"\"\"\n",
    "\n",
    "    def mass_replace_binary(value, if_true):\n",
    "        \"\"\"\n",
    "        Substitui um valor por 1 se for igual ao valor de referência, caso contrário, 0.\n",
    "\n",
    "        Args:\n",
    "            value (any): Valor a ser comparado.\n",
    "            if_true (any): Valor de referência.\n",
    "\n",
    "        Retorna:\n",
    "        int: 1 se os valores forem iguais, 0 caso contrário.\n",
    "        \"\"\"\n",
    "        return 1 if value == if_true else 0\n",
    "    \n",
    "    # Para cada valor único, cria uma nova coluna binária\n",
    "    for x in list(df[column_name].unique()):\n",
    "        df[x] = df[column_name].apply(mass_replace_binary, if_true = x)\n",
    "\n",
    "# Lista das colunas a terem uma coluna binária de cada um de seus valores\n",
    "colunas_para_binarios = ['tipo', 'subtipo']\n",
    "\n",
    "# Aplica a função para cada coluna na lista\n",
    "for x in colunas_para_binarios:\n",
    "    cell_values_to_column(x)\n",
    "\n",
    "# Separar uma amostra, baseada no desempenho dos influenciadores, para montar os clusters\n",
    "visao_perfis = (df[['user_id',\n",
    "                    'seguidores',\n",
    "                    'impressoes',\n",
    "                    'alcance',\n",
    "                    'engajamentos',\n",
    "                    'taxa_engajamento',\n",
    "                    'alcance_efetivo'\n",
    "                    ]]\n",
    "\n",
    "                    .copy()\n",
    "                    .groupby('user_id')\n",
    "                    .mean()\n",
    "                    .round(4))\n",
    "\n",
    "# Renomeia as colunas para melhorar a legibilidade\n",
    "df = df.rename(columns={'id_media': 'ID da midia',\n",
    "                        'data_postagem': 'Data da postagem',\n",
    "                        'user_id': 'ID do usuário',\n",
    "                        'seguidores': 'Seguidores',\n",
    "                        'tipo': 'Tipo',\n",
    "                        'subtipo': 'Subtipo',\n",
    "                        'impressoes': 'Impressões',\n",
    "                        'alcance': 'Alcance',\n",
    "                        'likes': 'Likes',\n",
    "                        'comentarios': 'Comentários',\n",
    "                        'saves': 'Saves',\n",
    "                        'toques para tras': 'Toques para trás',\n",
    "                        'respostas': 'Respostas',\n",
    "                        'engajamentos': 'Engajamentos',\n",
    "                        'taxa_engajamento': 'Taxa de engajamento',\n",
    "                        'alcance_efetivo': 'Alcance Efetivo',\n",
    "                        'stories': 'Stories',\n",
    "                        'post': 'Posts',\n",
    "                        'video': 'Video',\n",
    "                        'image': 'Imagens',\n",
    "                        'carousel': 'Carrosel'\n",
    "                        })\n",
    "\n",
    "# Salva o DataFrame em um arquivo CSV\n",
    "df.to_csv(r'/home/tcduarte/Reps/analise-awareness-python/awareness.csv', index=False)"
   ]
  },
  {
   "cell_type": "code",
   "execution_count": 94,
   "metadata": {},
   "outputs": [
    {
     "data": {
      "image/png": "[encoded data removed]",
      "text/plain": [
       "<Figure size 640x480 with 1 Axes>"
      ]
     },
     "metadata": {},
     "output_type": "display_data"
    }
   ],
   "source": [
    "# Análise de Clusters\n",
    "\n",
    "\n",
    "\n",
    "# A biblioteca warnings será utilizada nesse caso apenas para retirar os avisos das extensões, a qual\n",
    "# nesse caso, pode atrapalhar a visualização das saidas do código.\n",
    "with warnings.catch_warnings(record=True):\n",
    "\n",
    "    # Padroniza os dados de impressões e engajamentos\n",
    "    padronizador = StandardScaler()\n",
    "\n",
    "    dados_padronizados = padronizador.fit_transform(visao_perfis[['alcance_efetivo', 'taxa_engajamento']])\n",
    "    kmeans = KMeans(n_clusters = 5)\n",
    "    kmeans.fit(dados_padronizados)\n",
    "    visao_perfis['clusters'] = kmeans.labels_\n",
    "    fig = plt.scatter(x = visao_perfis['alcance_efetivo'], \n",
    "                      y = visao_perfis['taxa_engajamento'], \n",
    "                      c = visao_perfis['clusters'], \n",
    "                      s = visao_perfis['seguidores']/2000)\n",
    "    \n",
    "df.to_csv(r'/home/tcduarte/Reps/analise-awareness-python/clusters.csv', index=False)"
   ]
  }
 ],
 "metadata": {
  "kernelspec": {
   "display_name": "base",
   "language": "python",
   "name": "python3"
  },
  "language_info": {
   "codemirror_mode": {
    "name": "ipython",
    "version": 3
   },
   "file_extension": ".py",
   "mimetype": "text/x-python",
   "name": "python",
   "nbconvert_exporter": "python",
   "pygments_lexer": "ipython3",
   "version": "3.11.5"
  }
 },
 "nbformat": 4,
 "nbformat_minor": 2
}
