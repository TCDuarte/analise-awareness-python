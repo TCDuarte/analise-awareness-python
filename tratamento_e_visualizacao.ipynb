{
 "cells": [
  {
   "cell_type": "code",
   "execution_count": 70,
   "metadata": {},
   "outputs": [],
   "source": [
    "import pandas as pd"
   ]
  },
  {
   "cell_type": "code",
   "execution_count": 71,
   "metadata": {},
   "outputs": [],
   "source": [
    "# Carregamento dos dados\n",
    "df = pd.read_excel(r'/home/tcduarte/Reps/analise-awareness-python/case_analista_de_business_inteligence.xlsx',\n",
    "                     sheet_name=1)"
   ]
  },
  {
   "cell_type": "code",
   "execution_count": 72,
   "metadata": {},
   "outputs": [],
   "source": [
    "def cell_values_to_column(column_name):\n",
    "    def mass_replace_binary(value, if_true):\n",
    "        if value == if_true:\n",
    "            return 1\n",
    "        else:\n",
    "            return 0\n",
    "    for x in list(df[column_name].unique()):\n",
    "        df[x] = df[column_name].apply(mass_replace_binary, if_true = x)\n",
    "\n",
    "colunas_para_binarios = ['tipo', 'subtipo']\n",
    "\n",
    "for x in colunas_para_binarios:\n",
    "    cell_values_to_column(x)\n",
    "\n",
    "df = df.rename(columns={'id_media': 'ID da midia',\n",
    "                        'data_postagem': 'Data da postagem',\n",
    "                        'user_id': 'ID do usuário',\n",
    "                        'seguidores': 'Seguidores',\n",
    "                        'tipo': 'Tipo',\n",
    "                        'subtipo': 'Subtipo',\n",
    "                        'impressoes': 'Impressões',\n",
    "                        'alcance': 'Alcance',\n",
    "                        'likes': 'Likes',\n",
    "                        'comentarios': 'Comentários',\n",
    "                        'saves': 'Saves',\n",
    "                        'toques para tras': 'Toques para trás',\n",
    "                        'respostas': 'Respostas',\n",
    "                        'engajamentos': 'Engajamentos',\n",
    "                        'taxa_engajamento': 'Taxa de engajamento',\n",
    "                        'alcance_efetivo': 'Alcance Efetivo',\n",
    "                        'stories': 'Stories',\n",
    "                        'post': 'Posts',\n",
    "                        'video': 'Video',\n",
    "                        'image': 'Imagens',\n",
    "                        'carousel': 'Carrosel'\n",
    "                        })\n",
    "\n",
    "df.to_csv(r'/home/tcduarte/Reps/analise-awareness-python/awareness.csv', index=False)"
   ]
  }
 ],
 "metadata": {
  "kernelspec": {
   "display_name": "base",
   "language": "python",
   "name": "python3"
  },
  "language_info": {
   "codemirror_mode": {
    "name": "ipython",
    "version": 3
   },
   "file_extension": ".py",
   "mimetype": "text/x-python",
   "name": "python",
   "nbconvert_exporter": "python",
   "pygments_lexer": "ipython3",
   "version": "3.11.5"
  }
 },
 "nbformat": 4,
 "nbformat_minor": 2
}
